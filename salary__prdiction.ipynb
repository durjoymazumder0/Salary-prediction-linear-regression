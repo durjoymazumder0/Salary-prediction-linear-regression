{
 "cells": [
  {
   "cell_type": "code",
   "execution_count": 1,
   "id": "118fcd82",
   "metadata": {
    "_cell_guid": "b1076dfc-b9ad-4769-8c92-a6c4dae69d19",
    "_uuid": "8f2839f25d086af736a60e9eeb907d3b93b6e0e5",
    "execution": {
     "iopub.execute_input": "2025-08-30T10:46:32.907834Z",
     "iopub.status.busy": "2025-08-30T10:46:32.906839Z",
     "iopub.status.idle": "2025-08-30T10:46:37.579432Z",
     "shell.execute_reply": "2025-08-30T10:46:37.578044Z"
    },
    "papermill": {
     "duration": 4.679204,
     "end_time": "2025-08-30T10:46:37.581596",
     "exception": false,
     "start_time": "2025-08-30T10:46:32.902392",
     "status": "completed"
    },
    "tags": []
   },
   "outputs": [],
   "source": [
    "import pandas as pd\n",
    "from sklearn.linear_model import LinearRegression\n",
    "from sklearn.model_selection import train_test_split\n",
    "from sklearn.metrics import mean_squared_error, r2_score\n"
   ]
  },
  {
   "cell_type": "code",
   "execution_count": 2,
   "id": "dc3ea33e",
   "metadata": {
    "execution": {
     "iopub.execute_input": "2025-08-30T10:46:37.590897Z",
     "iopub.status.busy": "2025-08-30T10:46:37.590388Z",
     "iopub.status.idle": "2025-08-30T10:46:37.639501Z",
     "shell.execute_reply": "2025-08-30T10:46:37.638333Z"
    },
    "papermill": {
     "duration": 0.056402,
     "end_time": "2025-08-30T10:46:37.641202",
     "exception": false,
     "start_time": "2025-08-30T10:46:37.584800",
     "status": "completed"
    },
    "tags": []
   },
   "outputs": [
    {
     "data": {
      "text/html": [
       "<div>\n",
       "<style scoped>\n",
       "    .dataframe tbody tr th:only-of-type {\n",
       "        vertical-align: middle;\n",
       "    }\n",
       "\n",
       "    .dataframe tbody tr th {\n",
       "        vertical-align: top;\n",
       "    }\n",
       "\n",
       "    .dataframe thead th {\n",
       "        text-align: right;\n",
       "    }\n",
       "</style>\n",
       "<table border=\"1\" class=\"dataframe\">\n",
       "  <thead>\n",
       "    <tr style=\"text-align: right;\">\n",
       "      <th></th>\n",
       "      <th>YearsExperience</th>\n",
       "      <th>Salary</th>\n",
       "    </tr>\n",
       "  </thead>\n",
       "  <tbody>\n",
       "    <tr>\n",
       "      <th>0</th>\n",
       "      <td>1.1</td>\n",
       "      <td>39343.0</td>\n",
       "    </tr>\n",
       "    <tr>\n",
       "      <th>1</th>\n",
       "      <td>1.3</td>\n",
       "      <td>46205.0</td>\n",
       "    </tr>\n",
       "    <tr>\n",
       "      <th>2</th>\n",
       "      <td>1.5</td>\n",
       "      <td>37731.0</td>\n",
       "    </tr>\n",
       "    <tr>\n",
       "      <th>3</th>\n",
       "      <td>2.0</td>\n",
       "      <td>43525.0</td>\n",
       "    </tr>\n",
       "    <tr>\n",
       "      <th>4</th>\n",
       "      <td>2.2</td>\n",
       "      <td>39891.0</td>\n",
       "    </tr>\n",
       "  </tbody>\n",
       "</table>\n",
       "</div>"
      ],
      "text/plain": [
       "   YearsExperience   Salary\n",
       "0              1.1  39343.0\n",
       "1              1.3  46205.0\n",
       "2              1.5  37731.0\n",
       "3              2.0  43525.0\n",
       "4              2.2  39891.0"
      ]
     },
     "execution_count": 2,
     "metadata": {},
     "output_type": "execute_result"
    }
   ],
   "source": [
    "filename =\"/kaggle/input/salary-prediction/Salary_Data.csv\"\n",
    "df=pd.read_csv(filename)\n",
    "df.head()"
   ]
  },
  {
   "cell_type": "code",
   "execution_count": 3,
   "id": "e6135581",
   "metadata": {
    "execution": {
     "iopub.execute_input": "2025-08-30T10:46:37.648686Z",
     "iopub.status.busy": "2025-08-30T10:46:37.648319Z",
     "iopub.status.idle": "2025-08-30T10:46:37.655829Z",
     "shell.execute_reply": "2025-08-30T10:46:37.654535Z"
    },
    "papermill": {
     "duration": 0.013769,
     "end_time": "2025-08-30T10:46:37.657988",
     "exception": false,
     "start_time": "2025-08-30T10:46:37.644219",
     "status": "completed"
    },
    "tags": []
   },
   "outputs": [
    {
     "data": {
      "text/plain": [
       "(30, 2)"
      ]
     },
     "execution_count": 3,
     "metadata": {},
     "output_type": "execute_result"
    }
   ],
   "source": [
    "df.shape"
   ]
  },
  {
   "cell_type": "code",
   "execution_count": 4,
   "id": "2ab5741f",
   "metadata": {
    "execution": {
     "iopub.execute_input": "2025-08-30T10:46:37.665008Z",
     "iopub.status.busy": "2025-08-30T10:46:37.664653Z",
     "iopub.status.idle": "2025-08-30T10:46:37.672698Z",
     "shell.execute_reply": "2025-08-30T10:46:37.671430Z"
    },
    "papermill": {
     "duration": 0.013615,
     "end_time": "2025-08-30T10:46:37.674508",
     "exception": false,
     "start_time": "2025-08-30T10:46:37.660893",
     "status": "completed"
    },
    "tags": []
   },
   "outputs": [
    {
     "data": {
      "text/plain": [
       "YearsExperience    0\n",
       "Salary             0\n",
       "dtype: int64"
      ]
     },
     "execution_count": 4,
     "metadata": {},
     "output_type": "execute_result"
    }
   ],
   "source": [
    "df.isna().sum()"
   ]
  },
  {
   "cell_type": "code",
   "execution_count": 5,
   "id": "a9b884d9",
   "metadata": {
    "execution": {
     "iopub.execute_input": "2025-08-30T10:46:37.681853Z",
     "iopub.status.busy": "2025-08-30T10:46:37.681483Z",
     "iopub.status.idle": "2025-08-30T10:46:37.743949Z",
     "shell.execute_reply": "2025-08-30T10:46:37.742286Z"
    },
    "papermill": {
     "duration": 0.068774,
     "end_time": "2025-08-30T10:46:37.746293",
     "exception": false,
     "start_time": "2025-08-30T10:46:37.677519",
     "status": "completed"
    },
    "tags": []
   },
   "outputs": [
    {
     "data": {
      "text/html": [
       "<style>#sk-container-id-1 {color: black;background-color: white;}#sk-container-id-1 pre{padding: 0;}#sk-container-id-1 div.sk-toggleable {background-color: white;}#sk-container-id-1 label.sk-toggleable__label {cursor: pointer;display: block;width: 100%;margin-bottom: 0;padding: 0.3em;box-sizing: border-box;text-align: center;}#sk-container-id-1 label.sk-toggleable__label-arrow:before {content: \"▸\";float: left;margin-right: 0.25em;color: #696969;}#sk-container-id-1 label.sk-toggleable__label-arrow:hover:before {color: black;}#sk-container-id-1 div.sk-estimator:hover label.sk-toggleable__label-arrow:before {color: black;}#sk-container-id-1 div.sk-toggleable__content {max-height: 0;max-width: 0;overflow: hidden;text-align: left;background-color: #f0f8ff;}#sk-container-id-1 div.sk-toggleable__content pre {margin: 0.2em;color: black;border-radius: 0.25em;background-color: #f0f8ff;}#sk-container-id-1 input.sk-toggleable__control:checked~div.sk-toggleable__content {max-height: 200px;max-width: 100%;overflow: auto;}#sk-container-id-1 input.sk-toggleable__control:checked~label.sk-toggleable__label-arrow:before {content: \"▾\";}#sk-container-id-1 div.sk-estimator input.sk-toggleable__control:checked~label.sk-toggleable__label {background-color: #d4ebff;}#sk-container-id-1 div.sk-label input.sk-toggleable__control:checked~label.sk-toggleable__label {background-color: #d4ebff;}#sk-container-id-1 input.sk-hidden--visually {border: 0;clip: rect(1px 1px 1px 1px);clip: rect(1px, 1px, 1px, 1px);height: 1px;margin: -1px;overflow: hidden;padding: 0;position: absolute;width: 1px;}#sk-container-id-1 div.sk-estimator {font-family: monospace;background-color: #f0f8ff;border: 1px dotted black;border-radius: 0.25em;box-sizing: border-box;margin-bottom: 0.5em;}#sk-container-id-1 div.sk-estimator:hover {background-color: #d4ebff;}#sk-container-id-1 div.sk-parallel-item::after {content: \"\";width: 100%;border-bottom: 1px solid gray;flex-grow: 1;}#sk-container-id-1 div.sk-label:hover label.sk-toggleable__label {background-color: #d4ebff;}#sk-container-id-1 div.sk-serial::before {content: \"\";position: absolute;border-left: 1px solid gray;box-sizing: border-box;top: 0;bottom: 0;left: 50%;z-index: 0;}#sk-container-id-1 div.sk-serial {display: flex;flex-direction: column;align-items: center;background-color: white;padding-right: 0.2em;padding-left: 0.2em;position: relative;}#sk-container-id-1 div.sk-item {position: relative;z-index: 1;}#sk-container-id-1 div.sk-parallel {display: flex;align-items: stretch;justify-content: center;background-color: white;position: relative;}#sk-container-id-1 div.sk-item::before, #sk-container-id-1 div.sk-parallel-item::before {content: \"\";position: absolute;border-left: 1px solid gray;box-sizing: border-box;top: 0;bottom: 0;left: 50%;z-index: -1;}#sk-container-id-1 div.sk-parallel-item {display: flex;flex-direction: column;z-index: 1;position: relative;background-color: white;}#sk-container-id-1 div.sk-parallel-item:first-child::after {align-self: flex-end;width: 50%;}#sk-container-id-1 div.sk-parallel-item:last-child::after {align-self: flex-start;width: 50%;}#sk-container-id-1 div.sk-parallel-item:only-child::after {width: 0;}#sk-container-id-1 div.sk-dashed-wrapped {border: 1px dashed gray;margin: 0 0.4em 0.5em 0.4em;box-sizing: border-box;padding-bottom: 0.4em;background-color: white;}#sk-container-id-1 div.sk-label label {font-family: monospace;font-weight: bold;display: inline-block;line-height: 1.2em;}#sk-container-id-1 div.sk-label-container {text-align: center;}#sk-container-id-1 div.sk-container {/* jupyter's `normalize.less` sets `[hidden] { display: none; }` but bootstrap.min.css set `[hidden] { display: none !important; }` so we also need the `!important` here to be able to override the default hidden behavior on the sphinx rendered scikit-learn.org. See: https://github.com/scikit-learn/scikit-learn/issues/21755 */display: inline-block !important;position: relative;}#sk-container-id-1 div.sk-text-repr-fallback {display: none;}</style><div id=\"sk-container-id-1\" class=\"sk-top-container\"><div class=\"sk-text-repr-fallback\"><pre>LinearRegression()</pre><b>In a Jupyter environment, please rerun this cell to show the HTML representation or trust the notebook. <br />On GitHub, the HTML representation is unable to render, please try loading this page with nbviewer.org.</b></div><div class=\"sk-container\" hidden><div class=\"sk-item\"><div class=\"sk-estimator sk-toggleable\"><input class=\"sk-toggleable__control sk-hidden--visually\" id=\"sk-estimator-id-1\" type=\"checkbox\" checked><label for=\"sk-estimator-id-1\" class=\"sk-toggleable__label sk-toggleable__label-arrow\">LinearRegression</label><div class=\"sk-toggleable__content\"><pre>LinearRegression()</pre></div></div></div></div></div>"
      ],
      "text/plain": [
       "LinearRegression()"
      ]
     },
     "execution_count": 5,
     "metadata": {},
     "output_type": "execute_result"
    }
   ],
   "source": [
    "features=[\"YearsExperience\"]\n",
    "X=df[features]\n",
    "y=df[\"Salary\"]\n",
    "X_train,X_test,y_train,y_test=train_test_split(X,y,test_size=0.7,random_state=42)\n",
    "model=LinearRegression()\n",
    "model.fit(X_train,y_train)"
   ]
  },
  {
   "cell_type": "code",
   "execution_count": 6,
   "id": "9d406135",
   "metadata": {
    "execution": {
     "iopub.execute_input": "2025-08-30T10:46:37.755193Z",
     "iopub.status.busy": "2025-08-30T10:46:37.754823Z",
     "iopub.status.idle": "2025-08-30T10:46:37.761355Z",
     "shell.execute_reply": "2025-08-30T10:46:37.759918Z"
    },
    "papermill": {
     "duration": 0.013131,
     "end_time": "2025-08-30T10:46:37.763255",
     "exception": false,
     "start_time": "2025-08-30T10:46:37.750124",
     "status": "completed"
    },
    "tags": []
   },
   "outputs": [
    {
     "name": "stdout",
     "output_type": "stream",
     "text": [
      "[9252.99964662]\n",
      "27957.90209282236\n"
     ]
    }
   ],
   "source": [
    "print(model.coef_)\n",
    "print(model.intercept_)"
   ]
  },
  {
   "cell_type": "code",
   "execution_count": 7,
   "id": "c2afbf72",
   "metadata": {
    "execution": {
     "iopub.execute_input": "2025-08-30T10:46:37.772039Z",
     "iopub.status.busy": "2025-08-30T10:46:37.771593Z",
     "iopub.status.idle": "2025-08-30T10:46:37.785113Z",
     "shell.execute_reply": "2025-08-30T10:46:37.783648Z"
    },
    "papermill": {
     "duration": 0.020722,
     "end_time": "2025-08-30T10:46:37.787404",
     "exception": false,
     "start_time": "2025-08-30T10:46:37.766682",
     "status": "completed"
    },
    "tags": []
   },
   "outputs": [
    {
     "name": "stdout",
     "output_type": "stream",
     "text": [
      "36156721.836254634\n",
      "0.9529487725319487\n"
     ]
    }
   ],
   "source": [
    "y_predict=model.predict(X_test)\n",
    "mse=mean_squared_error(y_test,y_predict)\n",
    "rscore=r2_score(y_test,y_predict)\n",
    "print(mse)\n",
    "print(rscore)"
   ]
  },
  {
   "cell_type": "code",
   "execution_count": 8,
   "id": "d08d5291",
   "metadata": {
    "execution": {
     "iopub.execute_input": "2025-08-30T10:46:37.796209Z",
     "iopub.status.busy": "2025-08-30T10:46:37.795816Z",
     "iopub.status.idle": "2025-08-30T10:46:38.260083Z",
     "shell.execute_reply": "2025-08-30T10:46:38.259021Z"
    },
    "papermill": {
     "duration": 0.470896,
     "end_time": "2025-08-30T10:46:38.261644",
     "exception": false,
     "start_time": "2025-08-30T10:46:37.790748",
     "status": "completed"
    },
    "tags": []
   },
   "outputs": [
    {
     "data": {
      "image/png": "[encoded data removed]",
      "text/plain": [
       "<Figure size 1000x800 with 1 Axes>"
      ]
     },
     "metadata": {},
     "output_type": "display_data"
    }
   ],
   "source": [
    "import matplotlib.pyplot as plt\n",
    "import numpy as np\n",
    "\n",
    "# Plot actual vs predicted values\n",
    "plt.figure(figsize=(10, 8))\n",
    "\n",
    "# Scatter plot of actual vs predicted\n",
    "plt.scatter(y_test, y_predict, alpha=0.7, color='blue', s=50)\n",
    "\n",
    "# Perfect prediction line (diagonal line)\n",
    "min_val = min(min(y_test), min(y_predict))\n",
    "max_val = max(max(y_test), max(y_predict))\n",
    "plt.plot([min_val, max_val], [min_val, max_val], 'r--', linewidth=2, label='Perfect Prediction')\n",
    "\n",
    "# Labels and title\n",
    "plt.xlabel('Actual Salary (y_test)', fontsize=12)\n",
    "plt.ylabel('Predicted Salary (y_predict)', fontsize=12)\n",
    "plt.title('Actual vs Predicted Salary Values', fontsize=14)\n",
    "plt.legend()\n",
    "plt.grid(True, alpha=0.3)\n",
    "\n",
    "# Make the plot square for better visualization\n",
    "plt.axis('equal')\n",
    "plt.tight_layout()\n",
    "plt.show()"
   ]
  },
  {
   "cell_type": "code",
   "execution_count": 9,
   "id": "ae1317df",
   "metadata": {
    "execution": {
     "iopub.execute_input": "2025-08-30T10:46:38.273451Z",
     "iopub.status.busy": "2025-08-30T10:46:38.272239Z",
     "iopub.status.idle": "2025-08-30T10:46:38.285671Z",
     "shell.execute_reply": "2025-08-30T10:46:38.284334Z"
    },
    "papermill": {
     "duration": 0.021005,
     "end_time": "2025-08-30T10:46:38.287596",
     "exception": false,
     "start_time": "2025-08-30T10:46:38.266591",
     "status": "completed"
    },
    "tags": []
   },
   "outputs": [
    {
     "data": {
      "text/html": [
       "<div>\n",
       "<style scoped>\n",
       "    .dataframe tbody tr th:only-of-type {\n",
       "        vertical-align: middle;\n",
       "    }\n",
       "\n",
       "    .dataframe tbody tr th {\n",
       "        vertical-align: top;\n",
       "    }\n",
       "\n",
       "    .dataframe thead th {\n",
       "        text-align: right;\n",
       "    }\n",
       "</style>\n",
       "<table border=\"1\" class=\"dataframe\">\n",
       "  <thead>\n",
       "    <tr style=\"text-align: right;\">\n",
       "      <th></th>\n",
       "      <th>actual</th>\n",
       "      <th>predicted</th>\n",
       "    </tr>\n",
       "  </thead>\n",
       "  <tbody>\n",
       "    <tr>\n",
       "      <th>0</th>\n",
       "      <td>112635.0</td>\n",
       "      <td>116786.698700</td>\n",
       "    </tr>\n",
       "    <tr>\n",
       "      <th>1</th>\n",
       "      <td>67938.0</td>\n",
       "      <td>73297.600361</td>\n",
       "    </tr>\n",
       "    <tr>\n",
       "      <th>2</th>\n",
       "      <td>113812.0</td>\n",
       "      <td>103832.499195</td>\n",
       "    </tr>\n",
       "    <tr>\n",
       "      <th>3</th>\n",
       "      <td>83088.0</td>\n",
       "      <td>76998.800220</td>\n",
       "    </tr>\n",
       "    <tr>\n",
       "      <th>4</th>\n",
       "      <td>64445.0</td>\n",
       "      <td>57567.500962</td>\n",
       "    </tr>\n",
       "  </tbody>\n",
       "</table>\n",
       "</div>"
      ],
      "text/plain": [
       "     actual      predicted\n",
       "0  112635.0  116786.698700\n",
       "1   67938.0   73297.600361\n",
       "2  113812.0  103832.499195\n",
       "3   83088.0   76998.800220\n",
       "4   64445.0   57567.500962"
      ]
     },
     "execution_count": 9,
     "metadata": {},
     "output_type": "execute_result"
    }
   ],
   "source": [
    "compare=pd.DataFrame({\"actual\": y_test[:5].values,\"predicted\": y_predict[:5]})\n",
    "compare"
   ]
  }
 ],
 "metadata": {
  "kaggle": {
   "accelerator": "none",
   "dataSources": [
    {
     "datasetId": 8170233,
     "sourceId": 12912376,
     "sourceType": "datasetVersion"
    }
   ],
   "dockerImageVersionId": 31089,
   "isGpuEnabled": false,
   "isInternetEnabled": false,
   "language": "python",
   "sourceType": "notebook"
  },
  "kernelspec": {
   "display_name": "Python 3",
   "language": "python",
   "name": "python3"
  },
  "language_info": {
   "codemirror_mode": {
    "name": "ipython",
    "version": 3
   },
   "file_extension": ".py",
   "mimetype": "text/x-python",
   "name": "python",
   "nbconvert_exporter": "python",
   "pygments_lexer": "ipython3",
   "version": "3.11.13"
  },
  "papermill": {
   "default_parameters": {},
   "duration": 13.352059,
   "end_time": "2025-08-30T10:46:39.116840",
   "environment_variables": {},
   "exception": null,
   "input_path": "__notebook__.ipynb",
   "output_path": "__notebook__.ipynb",
   "parameters": {},
   "start_time": "2025-08-30T10:46:25.764781",
   "version": "2.6.0"
  }
 },
 "nbformat": 4,
 "nbformat_minor": 5
}
